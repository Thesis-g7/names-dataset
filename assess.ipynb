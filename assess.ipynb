{
 "cells": [
  {
   "cell_type": "code",
   "execution_count": 32,
   "id": "f35e546c-7d6e-44a1-a794-c07e3e5c0556",
   "metadata": {},
   "outputs": [],
   "source": [
    "import whisper\n",
    "import os\n",
    "import random\n",
    "from jiwer import wer\n",
    "import numpy as np"
   ]
  },
  {
   "cell_type": "code",
   "execution_count": 35,
   "id": "4387c6c6-a8d3-4c95-b4a7-4df0ccb86715",
   "metadata": {
    "tags": []
   },
   "outputs": [],
   "source": [
    "wer_list = []\n",
    "\n",
    "def analyze_all_mp3(folder):\n",
    "    model = whisper.load_model(\"base.en\")\n",
    "    if not os.path.exists(folder):\n",
    "        print(\"Folder does not exist.\")\n",
    "        return\n",
    "    for item in os.listdir('audio')[:7200]:\n",
    "        if '.mp3' in item:\n",
    "            name = item.split(\"_\")[0].strip('. ')\n",
    "            result = model.transcribe(f\"{folder}/{item}\")\n",
    "            result = result['text'].strip('. ')\n",
    "            wer_result = wer(name, result)\n",
    "            wer_list.append(wer_result)\n",
    "            print(f\" Expected: {name}, Actual: {result}, Success: {result.lower() == name.lower()} WER {wer_result}\", end='\\r')"
   ]
  },
  {
   "cell_type": "code",
   "execution_count": 36,
   "id": "94cff0b2-b838-440f-a039-5f844723b60b",
   "metadata": {
    "tags": []
   },
   "outputs": [
    {
     "data": {
      "text/plain": [
       "8886"
      ]
     },
     "execution_count": 36,
     "metadata": {},
     "output_type": "execute_result"
    }
   ],
   "source": [
    "len(os.listdir('audio'))"
   ]
  },
  {
   "cell_type": "code",
   "execution_count": 37,
   "id": "c68bdf6e-4386-4e89-8ac3-98a3f6a7475b",
   "metadata": {
    "tags": []
   },
   "outputs": [
    {
     "name": "stdout",
     "output_type": "stream",
     "text": [
      " Expected: Gallagher, Actual: Gallagher, Success: True WER 0.0.0 2.0ER 4.0 time, Success: False WER 8.0 library library library library library library suspense microphone, Success: False WER 18.0bama, Success: False WER 30.0 False WER 38.0mes client. You can take the final step of pull and bind your asset to branches, Success: False WER 59.0re, running with meditation, we werecrowed into awesome Compatibility AMO or Dollet tank NoConsideringzers Part 3 from the towards,, Success: False WER 74.0 tuned. Having been with the cool business guys stuff that we've got today, Success: False WER 106.0\r"
     ]
    }
   ],
   "source": [
    "analyze_all_mp3('audio')"
   ]
  },
  {
   "cell_type": "code",
   "execution_count": 42,
   "id": "f42e7fb4-9cde-407a-b3b9-3b01735b5013",
   "metadata": {
    "tags": []
   },
   "outputs": [
    {
     "data": {
      "text/plain": [
       "array([  0.,   1.,   2.,   3.,   4.,   5.,   6.,   7.,   8.,   9.,  10.,\n",
       "        11.,  12.,  14.,  18.,  19.,  20.,  21.,  22.,  23.,  24.,  30.,\n",
       "        35.,  38.,  41.,  43.,  52.,  59.,  74., 106.])"
      ]
     },
     "execution_count": 42,
     "metadata": {},
     "output_type": "execute_result"
    }
   ],
   "source": [
    "np.unique(wer_list)"
   ]
  },
  {
   "cell_type": "code",
   "execution_count": 39,
   "id": "a097687e-d30d-4cd4-be04-3bdbcee5a0fe",
   "metadata": {
    "tags": []
   },
   "outputs": [
    {
     "data": {
      "text/plain": [
       "1.3329164929831874"
      ]
     },
     "execution_count": 39,
     "metadata": {},
     "output_type": "execute_result"
    }
   ],
   "source": [
    "np.average(wer_list)"
   ]
  },
  {
   "cell_type": "code",
   "execution_count": null,
   "id": "8fe05782-668a-429e-8be3-fafd359a1809",
   "metadata": {},
   "outputs": [],
   "source": []
  }
 ],
 "metadata": {
  "kernelspec": {
   "display_name": "Python 3 (ipykernel)",
   "language": "python",
   "name": "python3"
  },
  "language_info": {
   "codemirror_mode": {
    "name": "ipython",
    "version": 3
   },
   "file_extension": ".py",
   "mimetype": "text/x-python",
   "name": "python",
   "nbconvert_exporter": "python",
   "pygments_lexer": "ipython3",
   "version": "3.11.5"
  }
 },
 "nbformat": 4,
 "nbformat_minor": 5
}
